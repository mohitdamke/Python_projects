{
 "cells": [
  {
   "cell_type": "code",
   "execution_count": 2,
   "metadata": {},
   "outputs": [
    {
     "name": "stdout",
     "output_type": "stream",
     "text": [
      "4\n",
      " yay,congrats. you have guessed the number 4\n"
     ]
    }
   ],
   "source": [
    "import random\n",
    "\n",
    "def guess(x):\n",
    "    random_number = random.randint(1,x)\n",
    "    guess = 0\n",
    "    while guess != random_number:\n",
    "        guess = int (input(f'Guess a number between 1 and {x}'))\n",
    "        if guess < random_number:\n",
    "            print('sorry too low.')\n",
    "        elif guess > random_number:\n",
    "            print('sorry too high.')\n",
    "        print(guess)\n",
    "    print(f' yay,congrats. you have guessed the number {random_number}' )\n",
    "\n",
    "guess(10)"
   ]
  },
  {
   "cell_type": "code",
   "execution_count": 6,
   "metadata": {},
   "outputs": [
    {
     "name": "stdout",
     "output_type": "stream",
     "text": [
      "too high\n",
      "6\n",
      "sorry to low\n",
      "1\n",
      "2\n",
      " yey congrats. you have guessed the number 2\n"
     ]
    }
   ],
   "source": [
    "import random\n",
    "def guess(x):\n",
    "    random_number = random.randint(1,x)\n",
    "    guess = 0\n",
    "    while guess != random_number:\n",
    "        guess = int (input(f'Write a number between 1 to {x}'))\n",
    "        if guess < random_number:\n",
    "            print('sorry to low')\n",
    "        elif guess > random_number:\n",
    "            print('too high')\n",
    "        print(guess)\n",
    "    print (f' yey congrats. you have guessed the number {random_number}')\n",
    "\n",
    "guess(10)"
   ]
  },
  {
   "cell_type": "code",
   "execution_count": 24,
   "metadata": {},
   "outputs": [
    {
     "ename": "SyntaxError",
     "evalue": "invalid syntax (3340024547.py, line 12)",
     "output_type": "error",
     "traceback": [
      "\u001b[1;36m  Input \u001b[1;32mIn [24]\u001b[1;36m\u001b[0m\n\u001b[1;33m    else guess > 10:\u001b[0m\n\u001b[1;37m    ^\u001b[0m\n\u001b[1;31mSyntaxError\u001b[0m\u001b[1;31m:\u001b[0m invalid syntax\n"
     ]
    }
   ],
   "source": [
    "import random\n",
    "def guess(x):\n",
    "    random_number = random.randint(1,x)\n",
    "    guess = 0\n",
    "    while guess != random_number:\n",
    "        guess =  int(input('type a number between a 1 to {x}'))\n",
    "        if guess < random_number:\n",
    "            print ('too low')\n",
    "        elif guess > random_number:\n",
    "            print ('too high')\n",
    "        print(guess)\n",
    "\n",
    "    print(f'yee congrast we won the game {random_number}')\n",
    "guess(10)"
   ]
  },
  {
   "cell_type": "code",
   "execution_count": 28,
   "metadata": {},
   "outputs": [
    {
     "name": "stdout",
     "output_type": "stream",
     "text": [
      "too high\n",
      "9\n",
      "to low\n",
      "1\n",
      "to low\n",
      "1\n",
      "to low\n",
      "2\n",
      "to low\n",
      "3\n",
      "5\n",
      "yaya good job 5\n"
     ]
    }
   ],
   "source": [
    "import random\n",
    "def guess(x):    \n",
    "    random_number = random.randint(1,x)\n",
    "    guess = 0 \n",
    "    while guess != random_number:\n",
    "\n",
    "        guess = int(input('type a number betw 1 to {x}'))\n",
    "        if guess < random_number:\n",
    "            print('to low')\n",
    "        elif guess > random_number:\n",
    "            print('too high')\n",
    "        print(guess)\n",
    "  \n",
    "    print(f'yaya good job {random_number}')\n",
    "guess(10)"
   ]
  },
  {
   "cell_type": "code",
   "execution_count": 37,
   "metadata": {},
   "outputs": [
    {
     "name": "stdout",
     "output_type": "stream",
     "text": [
      "yay ! The computer guess,8,correctly!\n"
     ]
    }
   ],
   "source": [
    "def computer_guess(X):\n",
    "    low = 1\n",
    "    high = X\n",
    "    feedback = ''\n",
    "    while feedback != 'c':\n",
    "        if low != high:\n",
    "\n",
    "            guess = random.randint(low,high)\n",
    "        else:\n",
    "            guess = low\n",
    "        feedback = input(f'Is {guess} to high (H), too low (L), or correct (C)??').lower()\n",
    "        if feedback == 'h':\n",
    "            high = guess - 1\n",
    "        elif feedback == 'l':\n",
    "            low = guess + 1\n",
    "    print(f'yay ! The computer guess,{guess},correctly!')\n",
    "computer_guess(10)"
   ]
  },
  {
   "cell_type": "code",
   "execution_count": 51,
   "metadata": {},
   "outputs": [
    {
     "name": "stdout",
     "output_type": "stream",
     "text": [
      "You lost!\n"
     ]
    }
   ],
   "source": [
    "import random\n",
    "\n",
    "def play():\n",
    "    user = input(\"What's your choise? 'r' for rock, 'p' for paper, 's' for scissors\\n\")\n",
    "    computer = random.choice(['r','p','s'])\n",
    "    \n",
    "    if user == computer:\n",
    "        return 'It\\'s a tie'\n",
    "    \n",
    "    if is_win(user,computer):\n",
    "        return 'You won!'\n",
    "    return'You lost!'\n",
    "\n",
    "def is_win(player, opponent):\n",
    "\n",
    "    if (player == 'r' and opponent == 's') or (player == 's' and opponent == 'p')\\\n",
    "         or (player == 'p' and opponent == 'r'):\n",
    "         return True \n",
    "print(play())"
   ]
  },
  {
   "cell_type": "code",
   "execution_count": 50,
   "metadata": {},
   "outputs": [
    {
     "name": "stdout",
     "output_type": "stream",
     "text": [
      "You lost!\n"
     ]
    }
   ],
   "source": [
    "import random\n",
    "\n",
    "def play():\n",
    "    user = input(\"What's your choice? 'r' for rock, 'p' for paper, 's' for scissors\\n\")\n",
    "    computer = random.choice(['r', 'p', 's'])\n",
    "\n",
    "    if user == computer:\n",
    "        return 'It\\'s a tie'\n",
    "\n",
    "    # r > s, s > p, p > r\n",
    "    if is_win(user, computer):\n",
    "        return 'You won!'\n",
    "\n",
    "    return 'You lost!'\n",
    "\n",
    "def is_win(player, opponent):\n",
    "    # return true if player wins\n",
    "    # r > s, s > p, p > r\n",
    "    if (player == 'r' and opponent == 's') or (player == 's' and opponent == 'p') \\\n",
    "        or (player == 'p' and opponent == 'r'):\n",
    "        return True\n",
    "\n",
    "print(play())\n"
   ]
  },
  {
   "cell_type": "code",
   "execution_count": 8,
   "metadata": {},
   "outputs": [
    {
     "ename": "ImportError",
     "evalue": "cannot import name 'words' from 'words' (d:\\NEW PYTHON PROJECT\\words.py)",
     "output_type": "error",
     "traceback": [
      "\u001b[1;31m---------------------------------------------------------------------------\u001b[0m",
      "\u001b[1;31mImportError\u001b[0m                               Traceback (most recent call last)",
      "\u001b[1;32md:\\NEW PYTHON PROJECT\\project.ipynb Cell 8'\u001b[0m in \u001b[0;36m<cell line: 2>\u001b[1;34m()\u001b[0m\n\u001b[0;32m      <a href='vscode-notebook-cell:/d%3A/NEW%20PYTHON%20PROJECT/project.ipynb#ch0000007?line=0'>1</a>\u001b[0m \u001b[39mimport\u001b[39;00m \u001b[39mrandom\u001b[39;00m\n\u001b[1;32m----> <a href='vscode-notebook-cell:/d%3A/NEW%20PYTHON%20PROJECT/project.ipynb#ch0000007?line=1'>2</a>\u001b[0m \u001b[39mfrom\u001b[39;00m \u001b[39mwords\u001b[39;00m \u001b[39mimport\u001b[39;00m words\n\u001b[0;32m      <a href='vscode-notebook-cell:/d%3A/NEW%20PYTHON%20PROJECT/project.ipynb#ch0000007?line=2'>3</a>\u001b[0m \u001b[39mdef\u001b[39;00m \u001b[39mget_valid_word\u001b[39m(words):\n\u001b[0;32m      <a href='vscode-notebook-cell:/d%3A/NEW%20PYTHON%20PROJECT/project.ipynb#ch0000007?line=3'>4</a>\u001b[0m     word \u001b[39m=\u001b[39m random\u001b[39m.\u001b[39mchoice(words)\n",
      "\u001b[1;31mImportError\u001b[0m: cannot import name 'words' from 'words' (d:\\NEW PYTHON PROJECT\\words.py)"
     ]
    }
   ],
   "source": [
    "import random\n",
    "from words import words\n",
    "def get_valid_word(words):\n",
    "    word = random.choice(words)\n",
    "    while '-' in word or ' ' in word:\n",
    "        word = random.choice(words)\n",
    "    return word\n",
    "\n",
    "def hangman():\n",
    "    word = get_valid_word(words)\n",
    "    word_letters = set(word)\n",
    "    alphabet = set(string.ascii_uppercase)\n",
    "    used_letter = set()\n",
    "\n",
    "user_letter = input('Guess the letter:').upper()\n",
    "if user_letter in alphabet - used_letters:\n",
    "    user_letter.add(user_letter)\n",
    "    if user_letter in word_letters:\n",
    "        word_letters.remove(user_letter)\n"
   ]
  },
  {
   "cell_type": "code",
   "execution_count": null,
   "metadata": {},
   "outputs": [],
   "source": []
  },
  {
   "cell_type": "code",
   "execution_count": null,
   "metadata": {},
   "outputs": [],
   "source": []
  }
 ],
 "metadata": {
  "interpreter": {
   "hash": "a9cff5a362bc38ef45d817ae74b1af54d6a076e3d773891282bce078b815ba34"
  },
  "kernelspec": {
   "display_name": "Python 3.10.1 64-bit",
   "language": "python",
   "name": "python3"
  },
  "language_info": {
   "codemirror_mode": {
    "name": "ipython",
    "version": 3
   },
   "file_extension": ".py",
   "mimetype": "text/x-python",
   "name": "python",
   "nbconvert_exporter": "python",
   "pygments_lexer": "ipython3",
   "version": "3.10.1"
  },
  "orig_nbformat": 4
 },
 "nbformat": 4,
 "nbformat_minor": 2
}
